{
 "cells": [
  {
   "cell_type": "code",
   "execution_count": null,
   "metadata": {},
   "outputs": [],
   "source": [
    "from pyspark.sql import SparkSession\n",
    "from pyspark.sql.functions import col, lag, when, unix_timestamp, lit\n",
    "from pyspark.sql.window import Window\n",
    "import time\n",
    "\n",
    "spark = SparkSession.builder.appName(\"lvb-spark\") \\\n",
    "    .config('spark.jars.packages', 'org.mongodb.spark:mongo-spark-connector_2.12:3.0.0') \\\n",
    "    .master(\"local[*]\") \\\n",
    "    .getOrCreate()\n",
    "\n",
    "# Read from the filtered Parquet file\n",
    "start_time = time.time()\n",
    "df = spark.read.parquet(\"data/filtered_01.parquet\")\n",
    "load_time = time.time() - start_time\n",
    "print(f\"Loaded Parquet data in {load_time:.2f} seconds\")"
   ]
  },
  {
   "cell_type": "code",
   "execution_count": null,
   "metadata": {},
   "outputs": [],
   "source": [
    "from pyspark.sql.functions import col, lag, when, unix_timestamp, lit\n",
    "from pyspark.sql.window import Window\n",
    "\n",
    "# Added Delay\n",
    "window_spec = Window.partitionBy(\"tripId\").orderBy(\"plannedWhen\")\n",
    "\n",
    "enriched_df = df.withColumn(\"prev_delay\", lag(\"delay\").over(window_spec)) \\\n",
    "    .withColumn(\"added_delay\", when(col(\"prev_delay\").isNotNull(), col(\"delay\") - col(\"prev_delay\")).otherwise(lit(0))) \\\n",
    "    .drop(\"prev_delay\")\n",
    "\n",
    "enriched_df.cache()\n",
    "\n",
    "enriched_df.explain(extended=True)"
   ]
  },
  {
   "cell_type": "code",
   "execution_count": null,
   "metadata": {},
   "outputs": [],
   "source": [
    "from pyspark.sql import Window\n",
    "from pyspark.sql.functions import col, row_number, when, first, last\n",
    "\n",
    "# Stop Type\n",
    "window_spec_trip = Window.partitionBy(\"tripId\")\n",
    "\n",
    "df_with_stop_type = enriched_df.withColumn(\n",
    "    \"stop_type\",\n",
    "    when(\n",
    "        col(\"stopId\") == first(\"stopId\").over(window_spec_trip),\n",
    "        \"start\"\n",
    "    ).when(\n",
    "        col(\"stopId\") == last(\"stopId\").over(window_spec_trip),\n",
    "        \"end\"\n",
    "    ).otherwise(\"pass\")\n",
    ")\n",
    "\n",
    "df_with_stop_type.show()"
   ]
  },
  {
   "cell_type": "code",
   "execution_count": null,
   "metadata": {},
   "outputs": [],
   "source": [
    "# Save to Parquet\n",
    "df_with_stop_type.write.mode(\"overwrite\").parquet(\"data/enriched_01.parquet\")\n",
    "print(\"Data saved to Parquet\")"
   ]
  },
  {
   "cell_type": "code",
   "execution_count": null,
   "metadata": {},
   "outputs": [],
   "source": [
    "# Read from Parquet\n",
    "start_time = time.time()\n",
    "parquet_df = spark.read.parquet(\"data/enriched_01.parquet\")\n",
    "load_time = time.time() - start_time\n",
    "print(f\"Loaded Parquet data in {load_time:.2f} seconds\")"
   ]
  },
  {
   "cell_type": "code",
   "execution_count": null,
   "metadata": {},
   "outputs": [],
   "source": [
    "from pyspark.sql.functions import rand\n",
    "\n",
    "# Get a random tripId\n",
    "random_trip = parquet_df.select(\"tripId\").distinct().orderBy(rand()).limit(1).collect()[0][\"tripId\"]\n",
    "# Filter the dataframe for the selected trip and order by plannedWhen\n",
    "trip_stops = parquet_df.filter(col(\"tripId\") == random_trip) \\\n",
    "                       .select(\"*\") \\\n",
    "                       .orderBy(\"plannedWhen\")\n",
    "\n",
    "print(f\"Stops for trip {random_trip}:\")\n",
    "trip_stops.show(truncate=False, n=trip_stops.count())\n"
   ]
  }
 ],
 "metadata": {
  "kernelspec": {
   "display_name": "Python 3 (ipykernel)",
   "language": "python",
   "name": "python3"
  },
  "language_info": {
   "codemirror_mode": {
    "name": "ipython",
    "version": 3
   },
   "file_extension": ".py",
   "mimetype": "text/x-python",
   "name": "python",
   "nbconvert_exporter": "python",
   "pygments_lexer": "ipython3",
   "version": "3.8.13"
  }
 },
 "nbformat": 4,
 "nbformat_minor": 2
}
