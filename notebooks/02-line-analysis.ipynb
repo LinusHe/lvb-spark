{
 "cells": [
  {
   "cell_type": "code",
   "execution_count": 1,
   "metadata": {},
   "outputs": [
    {
     "name": "stderr",
     "output_type": "stream",
     "text": [
      "WARNING: An illegal reflective access operation has occurred\n",
      "WARNING: Illegal reflective access by org.apache.spark.unsafe.Platform (file:/opt/spark/jars/spark-unsafe_2.12-3.2.1.jar) to constructor java.nio.DirectByteBuffer(long,int)\n",
      "WARNING: Please consider reporting this to the maintainers of org.apache.spark.unsafe.Platform\n",
      "WARNING: Use --illegal-access=warn to enable warnings of further illegal reflective access operations\n",
      "WARNING: All illegal access operations will be denied in a future release\n"
     ]
    },
    {
     "name": "stdout",
     "output_type": "stream",
     "text": [
      ":: loading settings :: url = jar:file:/opt/spark/jars/ivy-2.5.0.jar!/org/apache/ivy/core/settings/ivysettings.xml\n"
     ]
    },
    {
     "name": "stderr",
     "output_type": "stream",
     "text": [
      "Ivy Default Cache set to: /root/.ivy2/cache\n",
      "The jars for the packages stored in: /root/.ivy2/jars\n",
      "org.mongodb.spark#mongo-spark-connector_2.12 added as a dependency\n",
      ":: resolving dependencies :: org.apache.spark#spark-submit-parent-4d110634-bbcb-4d27-b4b1-a04930d2ad0b;1.0\n",
      "\tconfs: [default]\n",
      "\tfound org.mongodb.spark#mongo-spark-connector_2.12;3.0.0 in central\n",
      "\tfound org.mongodb#mongodb-driver-sync;4.0.5 in central\n",
      "\tfound org.mongodb#bson;4.0.5 in central\n",
      "\tfound org.mongodb#mongodb-driver-core;4.0.5 in central\n",
      ":: resolution report :: resolve 371ms :: artifacts dl 18ms\n",
      "\t:: modules in use:\n",
      "\torg.mongodb#bson;4.0.5 from central in [default]\n",
      "\torg.mongodb#mongodb-driver-core;4.0.5 from central in [default]\n",
      "\torg.mongodb#mongodb-driver-sync;4.0.5 from central in [default]\n",
      "\torg.mongodb.spark#mongo-spark-connector_2.12;3.0.0 from central in [default]\n",
      "\t---------------------------------------------------------------------\n",
      "\t|                  |            modules            ||   artifacts   |\n",
      "\t|       conf       | number| search|dwnlded|evicted|| number|dwnlded|\n",
      "\t---------------------------------------------------------------------\n",
      "\t|      default     |   4   |   0   |   0   |   0   ||   4   |   0   |\n",
      "\t---------------------------------------------------------------------\n",
      ":: retrieving :: org.apache.spark#spark-submit-parent-4d110634-bbcb-4d27-b4b1-a04930d2ad0b\n",
      "\tconfs: [default]\n",
      "\t0 artifacts copied, 4 already retrieved (0kB/7ms)\n",
      "24/09/22 11:21:33 WARN NativeCodeLoader: Unable to load native-hadoop library for your platform... using builtin-java classes where applicable\n",
      "Using Spark's default log4j profile: org/apache/spark/log4j-defaults.properties\n",
      "Setting default log level to \"WARN\".\n",
      "To adjust logging level use sc.setLogLevel(newLevel). For SparkR, use setLogLevel(newLevel).\n",
      "24/09/22 11:21:35 WARN Utils: Service 'SparkUI' could not bind on port 4040. Attempting port 4041.\n",
      "24/09/22 11:21:35 WARN Utils: Service 'SparkUI' could not bind on port 4041. Attempting port 4042.\n",
      "24/09/22 11:21:35 WARN Utils: Service 'SparkUI' could not bind on port 4042. Attempting port 4043.\n"
     ]
    }
   ],
   "source": [
    "from pyspark.sql import SparkSession\n",
    "from pyspark.sql.functions import explode, col, broadcast, avg, coalesce, lit, count\n",
    "from pyspark.sql.types import StructType, StructField, StringType, ArrayType\n",
    "from pyspark.sql import functions as F\n",
    "import pandas as pd\n",
    "import matplotlib.pyplot as plt\n",
    "from matplotlib.ticker import FuncFormatter\n",
    "import time\n",
    "import json\n",
    "\n",
    "\n",
    "# Initialize SparkSession only once\n",
    "spark = SparkSession.builder \\\n",
    "    .appName(\"lvb-spark\") \\\n",
    "    .config('spark.master', 'local') \\\n",
    "    .config('spark.jars.packages', 'org.mongodb.spark:mongo-spark-connector_2.12:3.0.0') \\\n",
    "    .getOrCreate()\n",
    "\n",
    "# Optimize shuffle partitions based on your machine's cores\n",
    "spark.conf.set(\"spark.sql.shuffle.partitions\", \"8\")  # Adjust as needed"
   ]
  },
  {
   "cell_type": "code",
   "execution_count": 2,
   "metadata": {},
   "outputs": [
    {
     "name": "stderr",
     "output_type": "stream",
     "text": [
      "                                                                                \r"
     ]
    },
    {
     "name": "stdout",
     "output_type": "stream",
     "text": [
      "Loaded Parquet data in 4.05 seconds\n"
     ]
    },
    {
     "name": "stderr",
     "output_type": "stream",
     "text": [
      "                                                                                \r"
     ]
    },
    {
     "name": "stdout",
     "output_type": "stream",
     "text": [
      "+--------------------+------+-------+\n",
      "|             line_id|  name|product|\n",
      "+--------------------+------+-------+\n",
      "|5-naslvb-e-138822...| Bus E|    bus|\n",
      "|         5-naslvb-n6|Bus N6|    bus|\n",
      "|          8-naslvt-1| STR 1|   tram|\n",
      "|          8-naslvt-2| STR 2|   tram|\n",
      "|          8-naslvt-3| STR 3|   tram|\n",
      "+--------------------+------+-------+\n",
      "only showing top 5 rows\n",
      "\n",
      "Loaded line data in 2.11 seconds\n"
     ]
    },
    {
     "name": "stderr",
     "output_type": "stream",
     "text": [
      "                                                                                \r"
     ]
    },
    {
     "name": "stdout",
     "output_type": "stream",
     "text": [
      "+---+--------------------+--------------------+-----+--------------------+-----------+-------------------+------+--------------------+-------------------+-----------+---------+------------+\n",
      "|__v|                 _id|           crawlDate|delay|           direction|     lineId|        plannedWhen|stopId|              tripId|               when|added_delay|line_name|line_product|\n",
      "+---+--------------------+--------------------+-----+--------------------+-----------+-------------------+------+--------------------+-------------------+-----------+---------+------------+\n",
      "|  0|{657c06dc39987f76...|2023-12-15 07:57:...|    0|Naunhofer Straße ...|5-naslvb-74|2023-12-15 07:57:00|964061|1|1001850|0|81|15...|2023-12-15 07:57:00|          0|   Bus 74|         bus|\n",
      "|  0|{657c0791fc07f576...|2023-12-15 08:00:...|    0|Naunhofer Straße ...|5-naslvb-74|2023-12-15 07:58:00|956577|1|1001850|0|81|15...|2023-12-15 07:58:00|          0|   Bus 74|         bus|\n",
      "|  0|{657c078ffc07f576...|2023-12-15 08:00:...|    0|Naunhofer Straße ...|5-naslvb-74|2023-12-15 08:00:00|955102|1|1001850|0|81|15...|2023-12-15 08:00:00|          0|   Bus 74|         bus|\n",
      "|  0|{657c0840d66e9a84...|2023-12-15 08:03:...|    0|Naunhofer Straße ...|5-naslvb-74|2023-12-15 08:02:00|957651|1|1001850|0|81|15...|2023-12-15 08:02:00|          0|   Bus 74|         bus|\n",
      "|  0|{657c08f3243e65f7...|2023-12-15 08:06:...|    0|Naunhofer Straße ...|5-naslvb-74|2023-12-15 08:04:00|956880|1|1001850|0|81|15...|2023-12-15 08:04:00|          0|   Bus 74|         bus|\n",
      "+---+--------------------+--------------------+-----+--------------------+-----------+-------------------+------+--------------------+-------------------+-----------+---------+------------+\n",
      "only showing top 5 rows\n",
      "\n",
      "Joined data in 3.72 seconds\n"
     ]
    }
   ],
   "source": [
    "start_time = time.time()\n",
    "\n",
    "# Read enriched departures from Parquet file\n",
    "df = spark.read.parquet(\"data/enriched_01.parquet\")\n",
    "print(f\"Loaded Parquet data in {time.time() - start_time:.2f} seconds\")\n",
    "\n",
    "# Load line data\n",
    "# Read the JSON file as a regular text file\n",
    "start_time = time.time()\n",
    "with open(\"data/relevantLines_with_stops.json\", \"r\") as file:\n",
    "    json_data = json.load(file)\n",
    "\n",
    "# Create a list of rows\n",
    "rows = [(line_id, line_info['name'], line_info['product']) for line_id, line_info in json_data.items()]\n",
    "\n",
    "# Define the schema for the DataFrame\n",
    "schema = StructType([\n",
    "    StructField(\"line_id\", StringType(), True),\n",
    "    StructField(\"name\", StringType(), True),\n",
    "    StructField(\"product\", StringType(), True)\n",
    "])\n",
    "\n",
    "# Create the DataFrame\n",
    "lines_df = spark.createDataFrame(rows, schema)\n",
    "\n",
    "# Show the first few rows to verify\n",
    "lines_df.show(5)\n",
    "print(f\"Loaded line data in {time.time() - start_time:.2f} seconds\")\n",
    "\n",
    "# Join the enriched departures with the line information\n",
    "start_time = time.time()\n",
    "joined_df = df.join(lines_df, df.lineId == lines_df.line_id, \"left\") \\\n",
    "    .select(df[\"*\"], \n",
    "            lines_df.name.alias(\"line_name\"), \n",
    "            lines_df.product.alias(\"line_product\"))\n",
    "joined_df.show(5)\n",
    "print(f\"Joined data in {time.time() - start_time:.2f} seconds\")"
   ]
  },
  {
   "cell_type": "code",
   "execution_count": 3,
   "metadata": {},
   "outputs": [
    {
     "name": "stderr",
     "output_type": "stream",
     "text": [
      "[Stage 23:>                                                         (0 + 1) / 1]\r"
     ]
    },
    {
     "name": "stdout",
     "output_type": "stream",
     "text": [
      "+------------+---------+-------+------------------------------------------+\n",
      "|line_product|avg_delay|count  |example_lines                             |\n",
      "+------------+---------+-------+------------------------------------------+\n",
      "|regional    |135.04   |973    |Bus S3, Bus S5, Bus S2, Bus S4            |\n",
      "|suburban    |132.68   |379400 |S 5, S 5X, S 2, S 6, S 1...               |\n",
      "|tram        |101.66   |2640642|STR 14, STR 50, STR 34, STR 4, STR 16...  |\n",
      "|bus         |98.71    |1672273|Bus N60, Bus N5, Bus 90, Bus 76, Bus 89...|\n",
      "+------------+---------+-------+------------------------------------------+\n",
      "\n"
     ]
    },
    {
     "name": "stderr",
     "output_type": "stream",
     "text": [
      "                                                                                \r"
     ]
    }
   ],
   "source": [
    "# Calculate average delay grouped by product and collect example line names\n",
    "delay_by_product = joined_df.groupBy(\"line_product\") \\\n",
    "    .agg(F.avg(\"delay\").alias(\"avg_delay\"), \n",
    "         F.count(\"*\").alias(\"count\"),\n",
    "         F.collect_set(\"line_name\").alias(\"line_names\")) \\\n",
    "    .orderBy(F.desc(\"avg_delay\"))\n",
    "\n",
    "# Function to limit array to 5 elements and format as string\n",
    "def limit_and_format(arr):\n",
    "    limited = arr[:5]\n",
    "    return \", \".join(limited) + (\"...\" if len(arr) > 5 else \"\")\n",
    "\n",
    "# Register the UDF\n",
    "limit_and_format_udf = F.udf(limit_and_format, StringType())\n",
    "\n",
    "# Apply the UDF to the line_names column\n",
    "delay_by_product_with_examples = delay_by_product.withColumn(\n",
    "    \"example_lines\", \n",
    "    limit_and_format_udf(F.col(\"line_names\"))\n",
    ")\n",
    "\n",
    "# Show the results\n",
    "delay_by_product_with_examples.select(\n",
    "    \"line_product\", \n",
    "    F.round(\"avg_delay\", 2).alias(\"avg_delay\"), \n",
    "    \"count\", \n",
    "    \"example_lines\"\n",
    ").show(truncate=False)"
   ]
  },
  {
   "cell_type": "code",
   "execution_count": 4,
   "metadata": {},
   "outputs": [
    {
     "name": "stderr",
     "output_type": "stream",
     "text": [
      "                                                                                \r"
     ]
    },
    {
     "name": "stdout",
     "output_type": "stream",
     "text": [
      "+------------+---------+-------+------------------------------------------+\n",
      "|line_product|avg_delay|count  |example_lines                             |\n",
      "+------------+---------+-------+------------------------------------------+\n",
      "|suburban    |133.86   |380373 |Bus S3, Bus S5, Bus S2, Bus S4, S 5...    |\n",
      "|tram        |101.66   |2640642|STR 14, STR 50, STR 34, STR 4, STR 16...  |\n",
      "|bus         |98.71    |1672273|Bus N60, Bus N5, Bus 90, Bus 76, Bus 89...|\n",
      "+------------+---------+-------+------------------------------------------+\n",
      "\n"
     ]
    }
   ],
   "source": [
    "# Merge regional and suburban products\n",
    "merged_df = delay_by_product_with_examples.withColumn(\n",
    "    \"line_product\",\n",
    "    F.when(F.col(\"line_product\").isin([\"regional\", \"suburban\"]), \"suburban\")\n",
    "     .otherwise(F.col(\"line_product\"))\n",
    ")\n",
    "\n",
    "# Recalculate the aggregations with the merged products\n",
    "merged_delay_by_product = merged_df.groupBy(\"line_product\") \\\n",
    "    .agg(F.avg(\"avg_delay\").alias(\"avg_delay\"), \n",
    "         F.sum(\"count\").alias(\"count\"),\n",
    "         F.flatten(F.collect_list(\"line_names\")).alias(\"line_names\")) \\\n",
    "    .orderBy(F.desc(\"avg_delay\"))\n",
    "\n",
    "# Apply the UDF to the merged results\n",
    "merged_delay_with_examples = merged_delay_by_product.withColumn(\n",
    "    \"example_lines\", \n",
    "    limit_and_format_udf(F.col(\"line_names\"))\n",
    ")\n",
    "\n",
    "# Show the results with merged regional and suburban\n",
    "merged_delay_with_examples.select(\n",
    "    \"line_product\", \n",
    "    F.round(\"avg_delay\", 2).alias(\"avg_delay\"), \n",
    "    \"count\", \n",
    "    \"example_lines\"\n",
    ").show(truncate=False)\n"
   ]
  },
  {
   "cell_type": "code",
   "execution_count": 5,
   "metadata": {},
   "outputs": [
    {
     "name": "stderr",
     "output_type": "stream",
     "text": [
      "                                                                                \r"
     ]
    },
    {
     "data": {
      "image/png": "[encoded data removed]",
      "text/plain": [
       "<Figure size 1000x600 with 2 Axes>"
      ]
     },
     "metadata": {},
     "output_type": "display_data"
    }
   ],
   "source": [
    "# Convert Spark DataFrame to Pandas DataFrame\n",
    "pdf = merged_delay_with_examples.select(\n",
    "    \"line_product\", \n",
    "    F.round(\"avg_delay\", 2).alias(\"avg_delay\"), \n",
    "    \"count\"\n",
    ").toPandas()\n",
    "\n",
    "# Create the figure and axis objects\n",
    "fig, ax1 = plt.subplots(figsize=(10, 6))\n",
    "\n",
    "# Plot average delay on the left y-axis\n",
    "bar_width = 0.35\n",
    "x = range(len(pdf['line_product']))\n",
    "ax1.bar([i - bar_width/2 for i in x], pdf['avg_delay'], width=bar_width, color='b', alpha=0.7, label='Avg Delay')\n",
    "ax1.set_xlabel('Line Product')\n",
    "ax1.set_ylabel('Average Delay (minutes)', color='b')\n",
    "ax1.tick_params(axis='y', labelcolor='b')\n",
    "\n",
    "# Create the second y-axis and plot count\n",
    "ax2 = ax1.twinx()\n",
    "ax2.bar([i + bar_width/2 for i in x], pdf['count'], width=bar_width, color='r', alpha=0.7, label='Count')\n",
    "ax2.set_ylabel('Count', color='r')\n",
    "ax2.tick_params(axis='y', labelcolor='r')\n",
    "\n",
    "# Format y-axis labels to use commas as thousand separators\n",
    "def format_func(value, tick_number):\n",
    "    return f'{int(value):,}'\n",
    "\n",
    "ax2.yaxis.set_major_formatter(FuncFormatter(format_func))\n",
    "\n",
    "# Set x-axis ticks and labels\n",
    "plt.xticks(x, pdf['line_product'])\n",
    "\n",
    "# Add legend\n",
    "lines1, labels1 = ax1.get_legend_handles_labels()\n",
    "lines2, labels2 = ax2.get_legend_handles_labels()\n",
    "ax1.legend(lines1 + lines2, labels1 + labels2, loc='upper left')\n",
    "\n",
    "# Set title\n",
    "plt.title('Average Delay and Count by Line Product')\n",
    "\n",
    "# Adjust layout and display the plot\n",
    "plt.tight_layout()\n",
    "plt.show()"
   ]
  }
 ],
 "metadata": {
  "kernelspec": {
   "display_name": "Python 3 (ipykernel)",
   "language": "python",
   "name": "python3"
  },
  "language_info": {
   "codemirror_mode": {
    "name": "ipython",
    "version": 3
   },
   "file_extension": ".py",
   "mimetype": "text/x-python",
   "name": "python",
   "nbconvert_exporter": "python",
   "pygments_lexer": "ipython3",
   "version": "3.8.13"
  }
 },
 "nbformat": 4,
 "nbformat_minor": 2
}
