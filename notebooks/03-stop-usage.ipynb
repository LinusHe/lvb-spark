{
 "cells": [
  {
   "cell_type": "code",
   "execution_count": 6,
   "metadata": {},
   "outputs": [],
   "source": [
    "from pyspark.sql import SparkSession\n",
    "from pyspark.sql import Row\n",
    "from pyspark.sql.functions import explode\n",
    "import pandas as pd\n",
    "import time\n",
    "\n",
    "# Stop any existing Spark applications\n",
    "SparkSession.builder \\\n",
    "    .config('spark.master', 'local') \\\n",
    "    .config('spark.jars.packages', 'org.mongodb.spark:mongo-spark-connector_2.12:3.0.0') \\\n",
    "    .getOrCreate().stop()\n",
    "\n",
    "# connect to spark and load data\n",
    "\n",
    "spark = SparkSession.builder.appName(\"lvb-spark\")\\\n",
    "        .config('spark.jars.packages', 'org.mongodb.spark:mongo-spark-connector_2.12:3.0.0')\\\n",
    "        .getOrCreate()\n",
    "\n",
    "df = spark.read.format(\"mongo\") \\\n",
    "    .option(\"uri\", \"mongodb://mongo:27017/\") \\\n",
    "    .option(\"database\", \"lvb\") \\\n",
    "    .option(\"collection\", \"departures\") \\\n",
    "    .load()"
   ]
  },
  {
   "cell_type": "code",
   "execution_count": null,
   "metadata": {},
   "outputs": [],
   "source": [
    "# calculate stop usage\n",
    "\n",
    "start_time = time.time()\n",
    "\n",
    "stop_usage = df.groupBy('stopId').count().orderBy('count', ascending=False)\n",
    "stop_usage.show()\n",
    "\n",
    "execution_duration = time.time() - start_time\n",
    "print(f\"Execution Duration: {round(execution_duration, 2)} seconds\")"
   ]
  },
  {
   "cell_type": "code",
   "execution_count": null,
   "metadata": {},
   "outputs": [],
   "source": [
    "# Join stop_usage with real stop names based on stopId\n",
    "\n",
    "# Read the stops.json file into a DataFrame\n",
    "stops_df = spark.read.option(\"multiLine\", \"true\").json(\"data/stops.json\")\n",
    "\n",
    "# Explode the \"stops\" array and select the required columns\n",
    "stops_df = stops_df.select(explode(\"stops\").alias(\"stop\")).select(\"stop.*\")\n",
    "\n",
    "# Join stop_usage with stops_df based on stopId\n",
    "stop_usage_with_names = stop_usage.join(stops_df, stop_usage.stopId == stops_df.id, \"inner\") \\\n",
    "    .select(stop_usage.stopId, \"name\", \"count\") \\\n",
    "    .orderBy(\"count\", ascending=False)\n",
    "\n",
    "stop_usage_with_names.show(truncate=False)\n",
    "\n",
    "execution_duration = time.time() - start_time\n",
    "print(f\"Execution Duration: {round(execution_duration, 2)} seconds\")"
   ]
  }
 ],
 "metadata": {
  "kernelspec": {
   "display_name": "Python 3 (ipykernel)",
   "language": "python",
   "name": "python3"
  },
  "language_info": {
   "codemirror_mode": {
    "name": "ipython",
    "version": 3
   },
   "file_extension": ".py",
   "mimetype": "text/x-python",
   "name": "python",
   "nbconvert_exporter": "python",
   "pygments_lexer": "ipython3",
   "version": "3.8.13"
  }
 },
 "nbformat": 4,
 "nbformat_minor": 2
}
