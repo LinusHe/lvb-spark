{
 "cells": [
  {
   "cell_type": "code",
   "execution_count": null,
   "metadata": {},
   "outputs": [],
   "source": [
    "from pyspark.sql import SparkSession\n",
    "from pyspark.sql import functions as F\n",
    "import matplotlib.pyplot as plt\n",
    "import time\n",
    "\n",
    "%run \"/usr/local/spark/notebooks/00-spark-connection.ipynb\""
   ]
  },
  {
   "cell_type": "code",
   "execution_count": null,
   "metadata": {},
   "outputs": [],
   "source": [
    "df = spark.read.parquet('data/enriched_01.parquet')\n",
    "\n",
    "# Extract hour from the departure time\n",
    "df = df.withColumn('hour', F.hour('when'))\n",
    "\n",
    "# Calculate average departures and delay per hour\n",
    "avg_departures = df.groupBy('hour').count().orderBy('hour')\n",
    "avg_delay = df.groupBy('hour').agg(F.avg('delay').alias('avg_delay')).orderBy('hour')\n",
    "\n",
    "# Convert to Pandas DataFrame for plotting\n",
    "avg_departures_pd = avg_departures.toPandas()\n",
    "avg_delay_pd = avg_delay.toPandas()\n",
    "\n",
    "# Plot average departures\n",
    "plt.figure(figsize=(12, 6))\n",
    "plt.bar(avg_departures_pd['hour'], avg_departures_pd['count'], color='skyblue', label='Departures')\n",
    "plt.title('Average Departures and Delay per Hour')\n",
    "plt.xlabel('Hour of the Day')\n",
    "plt.ylabel('Average Departures')\n",
    "\n",
    "# secondary y-axis for delay\n",
    "ax2 = plt.twinx()\n",
    "ax2.plot(avg_delay_pd['hour'], avg_delay_pd['avg_delay'], color='red', linewidth=2, label='Average Delay')\n",
    "ax2.set_ylabel('Average Delay (minutes)', color='red')\n",
    "ax2.tick_params(axis='y', labelcolor='red')\n",
    "\n",
    "# legend\n",
    "handles1, labels1 = plt.gca().get_legend_handles_labels()\n",
    "plt.legend(handles1, labels1, loc='upper left')\n",
    "\n",
    "plt.tight_layout()\n",
    "plt.show()"
   ]
  }
 ],
 "metadata": {
  "kernelspec": {
   "display_name": "Python 3 (ipykernel)",
   "language": "python",
   "name": "python3"
  },
  "language_info": {
   "codemirror_mode": {
    "name": "ipython",
    "version": 3
   },
   "file_extension": ".py",
   "mimetype": "text/x-python",
   "name": "python",
   "nbconvert_exporter": "python",
   "pygments_lexer": "ipython3",
   "version": "3.8.13"
  }
 },
 "nbformat": 4,
 "nbformat_minor": 2
}
