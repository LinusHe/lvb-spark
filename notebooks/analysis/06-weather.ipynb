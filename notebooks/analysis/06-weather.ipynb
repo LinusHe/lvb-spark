{
 "cells": [
  {
   "cell_type": "code",
   "execution_count": null,
   "metadata": {},
   "outputs": [],
   "source": [
    "from pyspark.sql import functions as F\n",
    "from pyspark.sql.types import StructType, StructField, StringType, DoubleType, TimestampType\n",
    "from pyspark.ml.feature import VectorAssembler\n",
    "from pyspark.ml.regression import LinearRegression\n",
    "from pyspark.ml.evaluation import RegressionEvaluator\n",
    "\n",
    "%run \"/usr/local/spark/notebooks/00-spark-connection.ipynb\"\n",
    "spark.sparkContext.setLogLevel(\"ERROR\")\n",
    "\n",
    "# Define schema for weather data\n",
    "weather_schema = StructType([\n",
    "    StructField(\"time\", TimestampType(), True),\n",
    "    StructField(\"temperature_2m\", DoubleType(), True),\n",
    "    StructField(\"rain\", DoubleType(), True),\n",
    "    StructField(\"snowfall\", DoubleType(), True),\n",
    "    StructField(\"weather_code\", StringType(), True)\n",
    "])\n",
    "\n",
    "# Load weather data\n",
    "weather_df = spark.read.csv(\"data/open-meteo.csv\",\n",
    "                            schema=weather_schema,\n",
    "                            header=True,\n",
    "                            dateFormat=\"yyyy-MM-dd'T'HH:mm\")\n",
    "\n",
    "# Load departures data\n",
    "departures_df = spark.read.parquet(\"data/enriched_01.parquet\")\n",
    "\n",
    "# Join weather and departures data\n",
    "merged_df = departures_df.join(weather_df, departures_df['when'] == weather_df['time'], \"inner\")\n"
   ]
  },
  {
   "cell_type": "code",
   "execution_count": null,
   "metadata": {},
   "outputs": [],
   "source": [
    "# Pearson correlation between weather factors and delay\n",
    "print(\"Correlation between weather factors and delay:\")\n",
    "for col in [\"temperature_2m\", \"rain\", \"snowfall\"]:\n",
    "    correlation = merged_df.stat.corr(\"delay\", col)\n",
    "    print(f\"Correlation between delay and {col}: {correlation}\")"
   ]
  },
  {
   "cell_type": "code",
   "execution_count": null,
   "metadata": {},
   "outputs": [],
   "source": [
    "import matplotlib.pyplot as plt\n",
    "import pandas as pd\n",
    "\n",
    "# Aggregate data to get average delay and minimum temperature per day\n",
    "daily_stats_df = merged_df.withColumn('date', F.to_date('time')) \\\n",
    "    .groupBy('date') \\\n",
    "    .agg(\n",
    "        F.avg('delay').alias('avg_delay'),\n",
    "        F.min('temperature_2m').alias('min_temp')\n",
    "    )\n",
    "\n",
    "# Collect data to a Pandas DataFrame\n",
    "daily_stats_pd = daily_stats_df.orderBy('date').toPandas()\n",
    "\n",
    "# Plotting\n",
    "fig, ax1 = plt.subplots(figsize=(12,6))\n",
    "\n",
    "ax1.set_xlabel('Date')\n",
    "ax1.set_ylabel('Average Delay', color='tab:red')\n",
    "ax1.plot(daily_stats_pd['date'], daily_stats_pd['avg_delay'], color='tab:red', label='Average Delay')\n",
    "ax1.tick_params(axis='y', labelcolor='tab:red')\n",
    "\n",
    "ax2 = ax1.twinx()\n",
    "ax2.set_ylabel('Minimum Temperature (°C)', color='tab:blue')\n",
    "ax2.plot(daily_stats_pd['date'], daily_stats_pd['min_temp'], color='tab:blue', label='Minimum Temperature')\n",
    "ax2.tick_params(axis='y', labelcolor='tab:blue')\n",
    "\n",
    "fig.tight_layout()\n",
    "plt.title('Average Delay per Day and Minimum Temperature')\n",
    "plt.show()\n"
   ]
  },
  {
   "cell_type": "code",
   "execution_count": null,
   "metadata": {},
   "outputs": [],
   "source": [
    "# Prepare data for machine learning\n",
    "feature_cols = [\"temperature_2m\", \"rain\", \"snowfall\"]\n",
    "assembler = VectorAssembler(inputCols=feature_cols, outputCol=\"features\")\n",
    "ml_data = assembler.transform(merged_df.select(\"delay\", *feature_cols))\n",
    "\n",
    "# Handle potential null values\n",
    "ml_data = ml_data.na.drop(subset=[\"features\", \"delay\"])\n",
    "\n",
    "# Split the data\n",
    "train_data, test_data = ml_data.randomSplit([0.8, 0.2], seed=42)\n",
    "\n",
    "# Train a linear regression model\n",
    "lr = LinearRegression(featuresCol=\"features\", labelCol=\"delay\")\n",
    "model = lr.fit(train_data)\n",
    "\n",
    "# Make predictions\n",
    "predictions = model.transform(test_data)\n",
    "\n",
    "# Evaluate the model\n",
    "evaluator = RegressionEvaluator(labelCol=\"delay\", predictionCol=\"prediction\", metricName=\"rmse\")\n",
    "rmse = evaluator.evaluate(predictions)\n",
    "print(f\"Root Mean Squared Error: {rmse}\")\n",
    "\n",
    "# Show feature coefficients\n",
    "coefficients = model.coefficients\n",
    "for feature, coef in zip(feature_cols, coefficients):\n",
    "    print(f\"{feature}: {coef}\")\n"
   ]
  }
 ],
 "metadata": {
  "kernelspec": {
   "display_name": "Python 3 (ipykernel)",
   "language": "python",
   "name": "python3"
  },
  "language_info": {
   "codemirror_mode": {
    "name": "ipython",
    "version": 3
   },
   "file_extension": ".py",
   "mimetype": "text/x-python",
   "name": "python",
   "nbconvert_exporter": "python",
   "pygments_lexer": "ipython3",
   "version": "3.8.13"
  }
 },
 "nbformat": 4,
 "nbformat_minor": 2
}
