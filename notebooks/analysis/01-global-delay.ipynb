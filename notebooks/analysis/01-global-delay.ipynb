{
 "cells": [
  {
   "cell_type": "code",
   "execution_count": null,
   "metadata": {},
   "outputs": [],
   "source": [
    "from pyspark.sql import SparkSession\n",
    "from pyspark.sql import Row\n",
    "import pandas as pd\n",
    "import time\n",
    "\n",
    "start_time = time.time()\n",
    "\n",
    "%run \"/usr/local/spark/notebooks/00-spark-connection.ipynb\"\n",
    "\n",
    "# Read enriched departures from Parquet file\n",
    "df = spark.read.parquet(\"data/enriched_01.parquet\")\n",
    "print(f\"Loaded Parquet data in {time.time() - start_time:.2f} seconds\")"
   ]
  },
  {
   "cell_type": "code",
   "execution_count": null,
   "metadata": {},
   "outputs": [],
   "source": [
    "start_time = time.time()\n",
    "avg_delay = df.agg({'delay': 'mean'}).collect()[0][0]\n",
    "execution_duration = time.time() - start_time\n",
    "\n",
    "print(f\"Durchschnittliche Verspätung: {avg_delay} Sekunden\")\n",
    "print(f\"-- Ausführungsdauer: {round(execution_duration, 2)} Sekunden\")"
   ]
  },
  {
   "cell_type": "code",
   "execution_count": null,
   "metadata": {},
   "outputs": [],
   "source": [
    "import matplotlib.pyplot as plt\n",
    "import pandas as pd\n",
    "\n",
    "# Verspätungswerte zählen\n",
    "delay_counts = df.groupBy(\"delay\").count().orderBy(\"delay\").collect()\n",
    "\n",
    "# Daten für das Tortendiagramm vorbereiten\n",
    "total_count = sum(row['count'] for row in delay_counts)\n",
    "threshold = 0.03 * total_count  # 3% Schwelle\n",
    "\n",
    "labels = []\n",
    "sizes = []\n",
    "other_count = 0\n",
    "\n",
    "delay_data = []\n",
    "\n",
    "for row in delay_counts:\n",
    "    delay = row['delay']\n",
    "    count = row['count']\n",
    "    percentage = count / total_count * 100\n",
    "    delay_data.append({\"Verspätung (s)\": delay, \"Anzahl\": count, \"Prozent\": percentage})\n",
    "    \n",
    "    if count >= threshold:\n",
    "        labels.append(f\"{delay}s\" if isinstance(delay, (int, float)) else str(delay))\n",
    "        sizes.append(count)\n",
    "    else:\n",
    "        other_count += count\n",
    "\n",
    "if other_count > 0:\n",
    "    labels.append(\"Other\")\n",
    "    sizes.append(other_count)\n",
    "\n",
    "# Tortendiagramm erstellen\n",
    "plt.figure(figsize=(12, 8))\n",
    "plt.pie(sizes, labels=labels, autopct='%1.1f%%', startangle=90)\n",
    "plt.axis('equal')\n",
    "plt.title('Verteilung der Verspätungen')\n",
    "plt.show()\n",
    "\n",
    "# Erstellen und Anzeigen des DataFrames\n",
    "df_delays = pd.DataFrame(delay_data)\n",
    "pd.set_option('display.max_rows', None)  # Zeige alle Zeilen\n",
    "print(df_delays.to_string(index=False, float_format=lambda x: f\"{x:.2f}\"))\n",
    "\n",
    "print(f\"\\nGesamtanzahl der Datensätze: {total_count}\")\n",
    "print(f\"Anzahl unterschiedlicher Verspätungswerte: {len(delay_counts)}\")"
   ]
  }
 ],
 "metadata": {
  "kernelspec": {
   "display_name": "Python 3 (ipykernel)",
   "language": "python",
   "name": "python3"
  },
  "language_info": {
   "codemirror_mode": {
    "name": "ipython",
    "version": 3
   },
   "file_extension": ".py",
   "mimetype": "text/x-python",
   "name": "python",
   "nbconvert_exporter": "python",
   "pygments_lexer": "ipython3",
   "version": "3.8.13"
  }
 },
 "nbformat": 4,
 "nbformat_minor": 2
}
