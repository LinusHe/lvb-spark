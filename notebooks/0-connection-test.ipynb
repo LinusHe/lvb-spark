{
 "cells": [
  {
   "cell_type": "code",
   "execution_count": null,
   "id": "b8736d82-e98e-4cf9-9906-bbfccf1a7e65",
   "metadata": {},
   "outputs": [],
   "source": [
    "from pyspark.sql import SparkSession\n",
    "\n",
    "spark = SparkSession.builder \\\n",
    "    .appName(\"LVB Analysis\") \\\n",
    "    .master(\"spark://spark-master:7077\") \\\n",
    "    .getOrCreate()\n",
    "\n",
    "print(spark.version)  # Sollte 3.3.2 ausgeben\n",
    "\n",
    "df = spark.read.format(\"mongodb\") \\\n",
    "    .option(\"connection.uri\", \"mongodb://mongo:27017/\") \\\n",
    "    .option(\"database\", \"lvb\") \\\n",
    "    .option(\"collection\", \"departures\") \\\n",
    "    .load()\n",
    "\n",
    "df.printSchema()\n"
   ]
  },
  {
   "cell_type": "code",
   "execution_count": null,
   "id": "0d24adbf-54fa-4d77-b024-c7b76af89e12",
   "metadata": {},
   "outputs": [],
   "source": [
    "df = spark.read.format(\"mongodb\") \\\n",
    "    .option(\"connection.uri\", \"mongodb://mongo:27017/\") \\\n",
    "    .option(\"database\", \"lvb\") \\\n",
    "    .option(\"collection\", \"departures\") \\\n",
    "    .option(\"pipeline\", \"[{'$limit': 1}]\") \\\n",
    "    .load()\n",
    "    \n",
    "df.show()\n"
   ]
  },
  {
   "cell_type": "code",
   "execution_count": null,
   "id": "10e3a9ca",
   "metadata": {},
   "outputs": [],
   "source": [
    "import socket\n",
    "\n",
    "def check_connection(host, port):\n",
    "    s = socket.socket()\n",
    "    try:\n",
    "        s.connect((host, port))\n",
    "        print(f\"Verbindung zu {host}:{port} erfolgreich\")\n",
    "    except Exception as e:\n",
    "        print(f\"Verbindung zu {host}:{port} fehlgeschlagen: {e}\")\n",
    "    finally:\n",
    "        s.close()\n",
    "\n",
    "check_connection('mongo', 27017)\n"
   ]
  }
 ],
 "metadata": {
  "kernelspec": {
   "display_name": "Python 3 (ipykernel)",
   "language": "python",
   "name": "python3"
  },
  "language_info": {
   "codemirror_mode": {
    "name": "ipython",
    "version": 3
   },
   "file_extension": ".py",
   "mimetype": "text/x-python",
   "name": "python",
   "nbconvert_exporter": "python",
   "pygments_lexer": "ipython3",
   "version": "3.10.10"
  }
 },
 "nbformat": 4,
 "nbformat_minor": 5
}
